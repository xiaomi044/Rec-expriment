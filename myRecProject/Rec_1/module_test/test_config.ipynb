{
 "cells": [
  {
   "cell_type": "code",
   "execution_count": null,
   "metadata": {},
   "outputs": [],
   "source": [
    "import yaml\n"
   ]
  },
  {
   "cell_type": "code",
   "execution_count": 11,
   "metadata": {},
   "outputs": [
    {
     "data": {
      "text/plain": [
       "'e:\\\\myGithubProject\\\\myRecProject\\\\Rec_1\\\\module_test'"
      ]
     },
     "execution_count": 11,
     "metadata": {},
     "output_type": "execute_result"
    }
   ],
   "source": [
    "import os \n",
    "#1获得当前路径，cwd=current working directory\n",
    "os.getcwd()\n"
   ]
  },
  {
   "cell_type": "code",
   "execution_count": 13,
   "metadata": {},
   "outputs": [
    {
     "data": {
      "text/plain": [
       "'e:\\\\myGithubProject\\\\myRecProject\\\\Rec_1\\\\module_test'"
      ]
     },
     "execution_count": 13,
     "metadata": {},
     "output_type": "execute_result"
    }
   ],
   "source": [
    "#2获得绝对路径\n",
    "os.path.abspath('.')  # 获取当前工作目录的绝对路径\n"
   ]
  },
  {
   "cell_type": "code",
   "execution_count": 15,
   "metadata": {},
   "outputs": [
    {
     "data": {
      "text/plain": [
       "'e:\\\\myGithubProject\\\\myRecProject\\\\Rec_1'"
      ]
     },
     "execution_count": 15,
     "metadata": {},
     "output_type": "execute_result"
    }
   ],
   "source": [
    "#3获得当前路径的上级目录路径\n",
    "os.path.dirname(os.getcwd())\n"
   ]
  },
  {
   "cell_type": "code",
   "execution_count": 18,
   "metadata": {},
   "outputs": [],
   "source": [
    "os.chdir(os.path.dirname(os.getcwd()))"
   ]
  },
  {
   "cell_type": "code",
   "execution_count": 19,
   "metadata": {},
   "outputs": [
    {
     "data": {
      "text/plain": [
       "'e:\\\\myGithubProject\\\\myRecProject\\\\Rec_1'"
      ]
     },
     "execution_count": 19,
     "metadata": {},
     "output_type": "execute_result"
    }
   ],
   "source": [
    "os.getcwd()"
   ]
  },
  {
   "cell_type": "code",
   "execution_count": 20,
   "metadata": {},
   "outputs": [
    {
     "name": "stdout",
     "output_type": "stream",
     "text": [
      "All tests passed!\n"
     ]
    }
   ],
   "source": [
    "import yaml\n",
    "\n",
    "# 加载配置文件\n",
    "with open(\"./config/config.yml\", \"r\") as file:\n",
    "    config = yaml.safe_load(file)\n",
    "\n",
    "# 测试模型配置\n",
    "def test_model_configuration():\n",
    "    assert \"architecture\" in config[\"model\"], \"Model architecture not specified.\"\n",
    "    assert config[\"model\"][\"architecture\"] == \"ResNet50\", \"Architecture mismatch.\"\n",
    "    assert config[\"model\"][\"num_classes\"] == 10, \"Number of classes mismatch.\"\n",
    "    assert isinstance(config[\"model\"][\"pretrained\"], bool), \"Pretrained flag must be a boolean.\"\n",
    "\n",
    "# 测试数据配置\n",
    "def test_data_configuration():\n",
    "    assert config[\"data\"][\"batch_size\"] == 32, \"Batch size mismatch.\"\n",
    "    assert config[\"data\"][\"image_size\"] == 224, \"Image size mismatch.\"\n",
    "    assert config[\"data\"][\"train_data_path\"].startswith(\"/data\"), \"Invalid train data path.\"\n",
    "    assert config[\"data\"][\"val_data_path\"].startswith(\"/data\"), \"Invalid validation data path.\"\n",
    "    assert config[\"data\"][\"num_workers\"] > 0, \"Number of workers should be positive.\"\n",
    "\n",
    "# 测试优化器配置\n",
    "def test_optimizer_configuration():\n",
    "    assert config[\"optimizer\"][\"type\"] == \"Adam\", \"Optimizer type mismatch.\"\n",
    "    assert config[\"optimizer\"][\"learning_rate\"] > 0, \"Learning rate should be positive.\"\n",
    "    assert config[\"optimizer\"][\"weight_decay\"] >= 0, \"Weight decay should be non-negative.\"\n",
    "    assert len(config[\"optimizer\"][\"betas\"]) == 2, \"Betas should be a pair.\"\n",
    "\n",
    "# 测试损失函数配置\n",
    "def test_loss_configuration():\n",
    "    assert config[\"loss\"][\"type\"] == \"CrossEntropyLoss\", \"Loss function mismatch.\"\n",
    "\n",
    "# 测试训练配置\n",
    "def test_train_configuration():\n",
    "    assert config[\"train\"][\"epochs\"] > 0, \"Number of epochs should be positive.\"\n",
    "    assert isinstance(config[\"train\"][\"save_checkpoint\"], bool), \"Checkpoint flag must be a boolean.\"\n",
    "    assert config[\"train\"][\"checkpoint_interval\"] > 0, \"Checkpoint interval should be positive.\"\n",
    "    assert config[\"train\"][\"early_stopping_patience\"] > 0, \"Early stopping patience should be positive.\"\n",
    "\n",
    "# 测试学习率调度器配置\n",
    "def test_scheduler_configuration():\n",
    "    assert config[\"scheduler\"][\"type\"] == \"StepLR\", \"Scheduler type mismatch.\"\n",
    "    assert config[\"scheduler\"][\"step_size\"] > 0, \"Step size should be positive.\"\n",
    "    assert config[\"scheduler\"][\"gamma\"] > 0, \"Gamma should be positive.\"\n",
    "\n",
    "# 测试设备配置\n",
    "def test_device_configuration():\n",
    "    assert isinstance(config[\"device\"][\"use_gpu\"], bool), \"use_gpu flag must be a boolean.\"\n",
    "    if config[\"device\"][\"use_gpu\"]:\n",
    "        assert config[\"device\"][\"gpu_id\"] >= 0, \"GPU ID should be non-negative.\"\n",
    "\n",
    "# 运行所有测试\n",
    "def run_tests():\n",
    "    test_model_configuration()\n",
    "    test_data_configuration()\n",
    "    test_optimizer_configuration()\n",
    "    test_loss_configuration()\n",
    "    test_train_configuration()\n",
    "    test_scheduler_configuration()\n",
    "    test_device_configuration()\n",
    "    print(\"All tests passed!\")\n",
    "\n",
    "# 执行测试\n",
    "run_tests()\n"
   ]
  }
 ],
 "metadata": {
  "kernelspec": {
   "display_name": "Python 3",
   "language": "python",
   "name": "python3"
  },
  "language_info": {
   "codemirror_mode": {
    "name": "ipython",
    "version": 3
   },
   "file_extension": ".py",
   "mimetype": "text/x-python",
   "name": "python",
   "nbconvert_exporter": "python",
   "pygments_lexer": "ipython3",
   "version": "3.9.19"
  }
 },
 "nbformat": 4,
 "nbformat_minor": 2
}
